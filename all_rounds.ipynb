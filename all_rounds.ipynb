{
  "cells": [
    {
      "cell_type": "markdown",
      "metadata": {
        "id": "view-in-github",
        "colab_type": "text"
      },
      "source": [
        "<a href=\"https://colab.research.google.com/github/akhils-codes1/ML4Crypto-2022/blob/main/all_rounds.ipynb\" target=\"_parent\"><img src=\"https://colab.research.google.com/assets/colab-badge.svg\" alt=\"Open In Colab\"/></a>"
      ]
    },
    {
      "cell_type": "code",
      "execution_count": null,
      "id": "a85caa46",
      "metadata": {
        "id": "a85caa46"
      },
      "outputs": [],
      "source": [
        "from base64 import b64encode, b64decode\n",
        "\n",
        "def hex_to_base64(s):\n",
        "    b64 = b64encode(bytes.fromhex(s)).decode()\n",
        "    return b64\n",
        "\n",
        "def base64_to_hex(b64):\n",
        "    s2 = b64decode(b64.encode()).hex()\n",
        "    return s2"
      ]
    },
    {
      "cell_type": "code",
      "execution_count": null,
      "id": "2a3e079e",
      "metadata": {
        "id": "2a3e079e"
      },
      "outputs": [],
      "source": [
        "def base64_encode(message_bytes):\n",
        "    #message = \"Python is fun\"\n",
        "    #message_bytes = message.encode('ascii')#converts into bytes\n",
        "    base64_bytes = b64encode(message_bytes)#base64 encoding\n",
        "    base64_message = base64_bytes.decode('utf-8')#bytes to ascii\n",
        "    return base64_message\n",
        "\n",
        "def base64_decode(string):\n",
        "    base64_message = string\n",
        "    base64_bytes = base64_message.encode('utf-8')\n",
        "    message_bytes = b64decode(base64_bytes)#base64 decoding\n",
        "    #message = message_bytes.decode('ascii')\n",
        "    return message_bytes"
      ]
    },
    {
      "cell_type": "code",
      "execution_count": null,
      "id": "18ff9e48",
      "metadata": {
        "id": "18ff9e48"
      },
      "outputs": [],
      "source": [
        "def split_into_128bits(s):\n",
        "    n = int(len(s)/32)\n",
        "    ret = []\n",
        "    j = 0\n",
        "    for i in range(n):\n",
        "        ret += [s[j:j+32]]\n",
        "        j+=32\n",
        "    return ret"
      ]
    },
    {
      "cell_type": "code",
      "execution_count": null,
      "id": "2a2302cf",
      "metadata": {
        "id": "2a2302cf"
      },
      "outputs": [],
      "source": [
        "from Crypto.Random import get_random_bytes\n",
        "import sys\n",
        "from aes10 import AES as AES_mod\n",
        "from Crypto.Cipher import AES\n",
        "from Crypto.Util.Padding import pad, unpad\n",
        "\n",
        "def encrypt_AES(plaintext, IV, key):\n",
        "    \"\"\"\n",
        "    plaintext and IV as bytestring\n",
        "    key in hex format\n",
        "    \"\"\"\n",
        "    IV = base64_to_hex(base64_encode(IV))\n",
        "    s = pad(plaintext, AES.block_size)\n",
        "    s = base64_to_hex(base64_encode(s))\n",
        "    res = split_into_128bits(s)\n",
        "    new = AES_mod(key)\n",
        "    #master_key = 0x3c7e155628aed2a6abf7158809cf4f3d\n",
        "    plaintext = []\n",
        "    encrypted = []\n",
        "    n = len(res)\n",
        "    for i in range(n):\n",
        "        if(i==0):\n",
        "            plaintext.append(int(res[i],16)^int(IV,16))\n",
        "        else:\n",
        "            #print(i,len(res))\n",
        "            plaintext.append(int(res[i],16)^encrypted[i-1])\n",
        "        encrypted.append(new.encrypt(plaintext[i]))\n",
        "    return IV, encrypted\n",
        "\n",
        "def decrypt_AES(IV, encrypted, key):\n",
        "    n = len(encrypted)\n",
        "    new = AES_mod(key)\n",
        "    decrypted = []\n",
        "    res = []\n",
        "    for i in range(n):\n",
        "        decrypted.append(new.decrypt(encrypted[i]))        \n",
        "        if(i==0):\n",
        "            res.append(hex(decrypted[i] ^ int(IV,16)))\n",
        "        else:\n",
        "            res.append(hex(decrypted[i]^encrypted[i-1]))\n",
        "    s = \"\".join(i[2:] for i in res)\n",
        "    s = bytes.fromhex(s)\n",
        "    return(unpad(s,AES.block_size))\n",
        "\n",
        "\n",
        "# plaintext1 = b'Python is the Best Language!'\n",
        "# plaintext2 = b'Python is the Best Language. This has been the trend for the past 10 years or so!'\n",
        "# IV = get_random_bytes(8)\n",
        "# key = 0x3c7e155628aed2a6abf7158809cf4f3d\n",
        "# enc_res = encrypt_AES(plaintext,IV,key)\n",
        "\n",
        "# dec_res = decrypt_AES(enc_res[0],enc_res[1],key)\n",
        "# print(dec_res)\n",
        "\n",
        "def ciphertext_gen(plaintext, round_number):\n",
        "    if(round_number == 1):\n",
        "        from aes1 import AES as AES_mod\n",
        "    elif(round_number == 2):\n",
        "        from aes2 import AES as AES_mod\n",
        "    elif(round_number == 3):\n",
        "        from aes3 import AES as AES_mod\n",
        "    elif(round_number == 4):\n",
        "        from aes4 import AES as AES_mod\n",
        "    elif(round_number == 5):\n",
        "        from aes5 import AES as AES_mod\n",
        "    elif(round_number == 6):\n",
        "        from aes6 import AES as AES_mod\n",
        "    elif(round_number == 7):\n",
        "        from aes7 import AES as AES_mod\n",
        "    elif(round_number == 8):\n",
        "        from aes8 import AES as AES_mod\n",
        "    elif(round_number == 9):\n",
        "        from aes9 import AES as AES_mod\n",
        "    elif(round_number == 10):\n",
        "        from aes10 import AES as AES_mod\n",
        "    enc_res = encrypt_AES(plaintext,IV,key)\n",
        "    ciphertext = \"\".join(hex(i)[2:] for i in enc_res[1])\n",
        "    return ciphertext\n",
        "        #print(\"AES_CBC_round1_ciphertext : \\n\\nIV :\\n\",enc_res[0],\"\\n\\nCIPHER TEXT : \\n\",ciphertext)\n",
        "        #print(\"\\nlen = \",len(ciphertext))"
      ]
    },
    {
      "cell_type": "code",
      "execution_count": null,
      "id": "8046c36f",
      "metadata": {
        "id": "8046c36f",
        "outputId": "2c9df9e4-f254-4fed-e993-911581a865c0"
      },
      "outputs": [
        {
          "data": {
            "text/plain": [
              "(b'Hello, this is A', 16)"
            ]
          },
          "execution_count": 5,
          "metadata": {},
          "output_type": "execute_result"
        }
      ],
      "source": [
        "fname = \"a.txt\"\n",
        "plaintext = open(fname,\"r\").read()[:-1]\n",
        "plaintext = plaintext[:512].encode('ascii')\n",
        "\n",
        "IV = get_random_bytes(8)\n",
        "key = 0x3c7e155628aed2a6abf7158809cf4f3d\n",
        "\n",
        "plaintext, len(plaintext)"
      ]
    },
    {
      "cell_type": "code",
      "execution_count": null,
      "id": "de5aeeef",
      "metadata": {
        "id": "de5aeeef"
      },
      "outputs": [],
      "source": [
        "# def dict_update(g,plaintext):\n",
        "#     plaintext = plaintext[:512].encode('ascii')\n",
        "#     IV = get_random_bytes(8)\n",
        "#     key = 0x3c7e155628aed2a6abf7158809cf4f3d\n",
        "#     g['Round1'].append(ciphertext_gen(plaintext,1))\n",
        "#     g['Round2'].append(ciphertext_gen(plaintext,2))\n",
        "#     g['Round3'].append(ciphertext_gen(plaintext,3))\n",
        "#     g['Round4'].append(ciphertext_gen(plaintext,4))\n",
        "#     g['Round5'].append(ciphertext_gen(plaintext,5))\n",
        "#     g['Round6'].append(ciphertext_gen(plaintext,6))\n",
        "#     g['Round7'].append(ciphertext_gen(plaintext,7))\n",
        "#     g['Round8'].append(ciphertext_gen(plaintext,8))\n",
        "#     g['Round9'].append(ciphertext_gen(plaintext,9))\n",
        "#     g['Round10'].append(ciphertext_gen(plaintext,10))\n",
        "#     random_text = base64_to_hex(base64_encode(get_random_bytes(1024)))[:2000]\n",
        "#     return g"
      ]
    },
    {
      "cell_type": "code",
      "execution_count": null,
      "id": "2b11cfa8",
      "metadata": {
        "id": "2b11cfa8"
      },
      "outputs": [],
      "source": [
        "def dict_update(g,plaintext):\n",
        "    plaintext = plaintext.encode('ascii')\n",
        "    IV = get_random_bytes(8)\n",
        "    key = 0x3c7e155628aed2a6abf7158809cf4f3d\n",
        "    for i in range(1,11):\n",
        "        g['text'].append(ciphertext_gen(plaintext,i)[:2025])\n",
        "        g['class'].append(i)#class stands for round\n",
        "    g['text'].append(base64_to_hex(base64_encode(get_random_bytes(1024)))[:2025])\n",
        "    g['class'].append(0)#here 0th class represents random text\n",
        "    return g"
      ]
    },
    {
      "cell_type": "code",
      "execution_count": null,
      "id": "0a4925fa",
      "metadata": {
        "id": "0a4925fa"
      },
      "outputs": [],
      "source": [
        "import pandas as pd"
      ]
    },
    {
      "cell_type": "code",
      "execution_count": null,
      "id": "51cd5660",
      "metadata": {
        "id": "51cd5660",
        "outputId": "b464eacf-926f-4429-f6a8-523407ed92d7"
      },
      "outputs": [
        {
          "data": {
            "text/plain": [
              "6344"
            ]
          },
          "execution_count": 9,
          "metadata": {},
          "output_type": "execute_result"
        }
      ],
      "source": [
        "df = pd.read_csv(\"new.csv\")\n",
        "len(df)"
      ]
    },
    {
      "cell_type": "code",
      "execution_count": null,
      "id": "90299cb0",
      "metadata": {
        "id": "90299cb0",
        "outputId": "06d652a6-042a-41d1-b7e6-7a9d9c44dbb3"
      },
      "outputs": [
        {
          "data": {
            "text/plain": [
              "'The Flesh and the Fiends, also known as Mania, is one of those pleasant surprises. It is a very good film with excellent acting, a thorough, thought-provoking script, suspenseful direction, and quite a jarring, almost twisted/perverted mood. I was genuinely surprised just how good this film was, because I had heard so little about it. But I can honestly say that I found it a highly enjoyable, disturbing, horrific film. Where to begin? Let\\'s start first with the story. The story covers old ground here(The Body Snatcher with Boris Karloff for instance precurses this)about those two infamous body snatchers of Scotland Burke and Hare and the doctor who needs dead bodies to help find cures for the sick - Dr. Knox. This film is pretty faithful to those stories. What really helps this come alive is three characterizations done by three highly gifted actors: Peter Cushing, Donald Pleasance, and George Rose. Rose plays Burke and Pleasance plays Hare and I do not think I have seen two men play such vile, degenerate men as well as these two do. They both ooze oil and shed scales with their portrayals of heartless, cold, ignorant men who don\\'t want to work and find that there is easy money in grave robbing. Soon they find it is even easier to just kill then dig up bodies(in fact they do not dig up ONE body in this film). Rose is snaggle-toothed and has a real weird twitching laugh. He is just plain repulsive and this is one of his finest characterizations in film. The same can be said for Pleasance who also plays a bad man with such conviction. Both he and Rose fit like gloves together. But as good as these two are, the real star of the film is that wonderful, under-appreciated British screen stalwart Peter Cushing, who makes cold stoicism seem so easy. Cushing plays Dr. Knox as a heartless man only concerned with science and who never really wants to think about where these bodies that he pays for come from. Cushing plays the role to the hilt in several scenes. My favorite is where he argues with \"colleagues\" about their medical shortcomings, saying, \"incline your heads to the right Gentlemen. There you will find the door. I suggest you use it.\" I love his ability to be so arrogant and yet so witty and convincing. Cushing even goes through some kind of a catharsis in this film which he does as only he can. Director John Gilling, a great Hammer film director, shows us why he was to make such good films as Plague of the Zombies. He is very sure behind the lens and knows how to pace and create suspenseful scenes. Mania is a very good film that, despite its above-average acting and directing, should make you think a bit about several philosophical/moral/ethical questions. Questions that may have changed shape today but still exist in some form.'"
            ]
          },
          "execution_count": 10,
          "metadata": {},
          "output_type": "execute_result"
        }
      ],
      "source": [
        "df.iloc[0]['text']"
      ]
    },
    {
      "cell_type": "code",
      "execution_count": null,
      "id": "a25496d2",
      "metadata": {
        "id": "a25496d2"
      },
      "outputs": [],
      "source": [
        "g = {'text':[],'class':[]}"
      ]
    },
    {
      "cell_type": "code",
      "execution_count": null,
      "id": "988db0b0",
      "metadata": {
        "id": "988db0b0",
        "outputId": "7299a886-470c-4181-fe14-2c1f818649cc"
      },
      "outputs": [
        {
          "data": {
            "text/plain": [
              "66000"
            ]
          },
          "execution_count": 12,
          "metadata": {},
          "output_type": "execute_result"
        }
      ],
      "source": [
        "6000*11"
      ]
    },
    {
      "cell_type": "code",
      "execution_count": null,
      "id": "ad7d62a0",
      "metadata": {
        "id": "ad7d62a0"
      },
      "outputs": [],
      "source": [
        "ldf = len(df)\n",
        "for i in range(6000):\n",
        "    g = dict_update(g,df.iloc[i]['text'])"
      ]
    },
    {
      "cell_type": "code",
      "execution_count": null,
      "id": "5e479f24",
      "metadata": {
        "id": "5e479f24"
      },
      "outputs": [],
      "source": [
        "df2 = pd.DataFrame(g)"
      ]
    },
    {
      "cell_type": "code",
      "execution_count": null,
      "id": "bafaba63",
      "metadata": {
        "id": "bafaba63",
        "outputId": "ec2f909b-8ffb-4ee0-eab1-f524f77fdb18"
      },
      "outputs": [
        {
          "data": {
            "text/html": [
              "<div>\n",
              "<style scoped>\n",
              "    .dataframe tbody tr th:only-of-type {\n",
              "        vertical-align: middle;\n",
              "    }\n",
              "\n",
              "    .dataframe tbody tr th {\n",
              "        vertical-align: top;\n",
              "    }\n",
              "\n",
              "    .dataframe thead th {\n",
              "        text-align: right;\n",
              "    }\n",
              "</style>\n",
              "<table border=\"1\" class=\"dataframe\">\n",
              "  <thead>\n",
              "    <tr style=\"text-align: right;\">\n",
              "      <th></th>\n",
              "      <th>class</th>\n",
              "    </tr>\n",
              "  </thead>\n",
              "  <tbody>\n",
              "    <tr>\n",
              "      <th>count</th>\n",
              "      <td>66000.000000</td>\n",
              "    </tr>\n",
              "    <tr>\n",
              "      <th>mean</th>\n",
              "      <td>5.000000</td>\n",
              "    </tr>\n",
              "    <tr>\n",
              "      <th>std</th>\n",
              "      <td>3.162302</td>\n",
              "    </tr>\n",
              "    <tr>\n",
              "      <th>min</th>\n",
              "      <td>0.000000</td>\n",
              "    </tr>\n",
              "    <tr>\n",
              "      <th>25%</th>\n",
              "      <td>2.000000</td>\n",
              "    </tr>\n",
              "    <tr>\n",
              "      <th>50%</th>\n",
              "      <td>5.000000</td>\n",
              "    </tr>\n",
              "    <tr>\n",
              "      <th>75%</th>\n",
              "      <td>8.000000</td>\n",
              "    </tr>\n",
              "    <tr>\n",
              "      <th>max</th>\n",
              "      <td>10.000000</td>\n",
              "    </tr>\n",
              "  </tbody>\n",
              "</table>\n",
              "</div>"
            ],
            "text/plain": [
              "              class\n",
              "count  66000.000000\n",
              "mean       5.000000\n",
              "std        3.162302\n",
              "min        0.000000\n",
              "25%        2.000000\n",
              "50%        5.000000\n",
              "75%        8.000000\n",
              "max       10.000000"
            ]
          },
          "execution_count": 15,
          "metadata": {},
          "output_type": "execute_result"
        }
      ],
      "source": [
        "df2.describe()"
      ]
    },
    {
      "cell_type": "code",
      "execution_count": null,
      "id": "6fbe4a52",
      "metadata": {
        "id": "6fbe4a52",
        "outputId": "63497613-c06d-426a-873f-5215227efe5a"
      },
      "outputs": [
        {
          "data": {
            "text/html": [
              "<div>\n",
              "<style scoped>\n",
              "    .dataframe tbody tr th:only-of-type {\n",
              "        vertical-align: middle;\n",
              "    }\n",
              "\n",
              "    .dataframe tbody tr th {\n",
              "        vertical-align: top;\n",
              "    }\n",
              "\n",
              "    .dataframe thead th {\n",
              "        text-align: right;\n",
              "    }\n",
              "</style>\n",
              "<table border=\"1\" class=\"dataframe\">\n",
              "  <thead>\n",
              "    <tr style=\"text-align: right;\">\n",
              "      <th></th>\n",
              "      <th>text</th>\n",
              "      <th>class</th>\n",
              "    </tr>\n",
              "  </thead>\n",
              "  <tbody>\n",
              "    <tr>\n",
              "      <th>0</th>\n",
              "      <td>527c2ca4dff28e491b8797875058de94fd4026939d5f3f...</td>\n",
              "      <td>1</td>\n",
              "    </tr>\n",
              "    <tr>\n",
              "      <th>1</th>\n",
              "      <td>527c2ca4dff28e491b8797875058de94fd4026939d5f3f...</td>\n",
              "      <td>2</td>\n",
              "    </tr>\n",
              "    <tr>\n",
              "      <th>2</th>\n",
              "      <td>527c2ca4dff28e491b8797875058de94fd4026939d5f3f...</td>\n",
              "      <td>3</td>\n",
              "    </tr>\n",
              "    <tr>\n",
              "      <th>3</th>\n",
              "      <td>527c2ca4dff28e491b8797875058de94fd4026939d5f3f...</td>\n",
              "      <td>4</td>\n",
              "    </tr>\n",
              "    <tr>\n",
              "      <th>4</th>\n",
              "      <td>527c2ca4dff28e491b8797875058de94fd4026939d5f3f...</td>\n",
              "      <td>5</td>\n",
              "    </tr>\n",
              "    <tr>\n",
              "      <th>...</th>\n",
              "      <td>...</td>\n",
              "      <td>...</td>\n",
              "    </tr>\n",
              "    <tr>\n",
              "      <th>65995</th>\n",
              "      <td>2044f46e17ef4c9e2bc6fac984e55a23f40371fdafb553...</td>\n",
              "      <td>7</td>\n",
              "    </tr>\n",
              "    <tr>\n",
              "      <th>65996</th>\n",
              "      <td>2044f46e17ef4c9e2bc6fac984e55a23f40371fdafb553...</td>\n",
              "      <td>8</td>\n",
              "    </tr>\n",
              "    <tr>\n",
              "      <th>65997</th>\n",
              "      <td>2044f46e17ef4c9e2bc6fac984e55a23f40371fdafb553...</td>\n",
              "      <td>9</td>\n",
              "    </tr>\n",
              "    <tr>\n",
              "      <th>65998</th>\n",
              "      <td>2044f46e17ef4c9e2bc6fac984e55a23f40371fdafb553...</td>\n",
              "      <td>10</td>\n",
              "    </tr>\n",
              "    <tr>\n",
              "      <th>65999</th>\n",
              "      <td>784d9b936c8bbef17f6b8b747bdcdfd0b47b4f46d49fb2...</td>\n",
              "      <td>0</td>\n",
              "    </tr>\n",
              "  </tbody>\n",
              "</table>\n",
              "<p>66000 rows × 2 columns</p>\n",
              "</div>"
            ],
            "text/plain": [
              "                                                    text  class\n",
              "0      527c2ca4dff28e491b8797875058de94fd4026939d5f3f...      1\n",
              "1      527c2ca4dff28e491b8797875058de94fd4026939d5f3f...      2\n",
              "2      527c2ca4dff28e491b8797875058de94fd4026939d5f3f...      3\n",
              "3      527c2ca4dff28e491b8797875058de94fd4026939d5f3f...      4\n",
              "4      527c2ca4dff28e491b8797875058de94fd4026939d5f3f...      5\n",
              "...                                                  ...    ...\n",
              "65995  2044f46e17ef4c9e2bc6fac984e55a23f40371fdafb553...      7\n",
              "65996  2044f46e17ef4c9e2bc6fac984e55a23f40371fdafb553...      8\n",
              "65997  2044f46e17ef4c9e2bc6fac984e55a23f40371fdafb553...      9\n",
              "65998  2044f46e17ef4c9e2bc6fac984e55a23f40371fdafb553...     10\n",
              "65999  784d9b936c8bbef17f6b8b747bdcdfd0b47b4f46d49fb2...      0\n",
              "\n",
              "[66000 rows x 2 columns]"
            ]
          },
          "execution_count": 16,
          "metadata": {},
          "output_type": "execute_result"
        }
      ],
      "source": [
        "df2"
      ]
    },
    {
      "cell_type": "code",
      "execution_count": null,
      "id": "26641695",
      "metadata": {
        "id": "26641695"
      },
      "outputs": [],
      "source": [
        "# df2.to_csv(\"allrounds2200.csv\")\n",
        "df2.to_csv(\"allrounds.csv\")"
      ]
    },
    {
      "cell_type": "code",
      "execution_count": null,
      "id": "a7f3da46",
      "metadata": {
        "id": "a7f3da46",
        "outputId": "0d6d5c02-fe57-4e2a-814e-1effb8acb31c"
      },
      "outputs": [
        {
          "data": {
            "text/plain": [
              "2025"
            ]
          },
          "execution_count": 18,
          "metadata": {},
          "output_type": "execute_result"
        }
      ],
      "source": [
        "len(df2.iloc[100]['text'])"
      ]
    },
    {
      "cell_type": "code",
      "execution_count": null,
      "id": "1e6f6bad",
      "metadata": {
        "id": "1e6f6bad",
        "outputId": "eaeaf3d0-b8bf-456f-baf5-0273b9fad4bc"
      },
      "outputs": [
        {
          "data": {
            "text/plain": [
              "('6a70e7798d23b3ade97fbc934924404d11af36cf633bd4d4e580452978268451c1c9fdd7cf52417cb11b04593150212c097b04bdd3505359d3b53141d73df36302ffc7bca674c532ca48a81ca739746ac60ad2e5508bcb02fa4d175925d870620c1a404eac24dc53ace16f9a8bba508cb639dfe204fe27f244aad4cd23a3851a22f9091451a95c568a40923c083a66c052bc9d161302593bd4b3706ea323a8f142910ccf787d3e36235d26aaf949fbbbe5ee44f8435a32557297c52067960027ccaf99825063a3c3106a0ce0e50aad460cc8fd4d9a7762b7b5ede394c178d355549224c06ffc936af8a22a7500a9f81cc4ed7800de8d9b229351024511b67925ed72b1b82db3dc34dd74e0079c06b65aa9e631e25428a008d86487f15d018e26fc8a10f7e0fc593d21373c7d7f1d32eca7a57648a3514189a675ba0325028f0af3c37f2a491f3b09f559bf49475506fbd33d5e8d95e505be957333c1826a8af9dfdc960d8bc2bd149cba743df0fda724ef72ea70a546d0d552755af6f58ab7ea6d5a1b62ccfd6f4af0b0ac4f2ae6a0bea9a038149ab90c2f29b9dfa38cdfa4e03216f5550f2c9a3dd5cb19df5c6950cadcc0b340f5f4efb5287aa4e964d04775e62d439ee7e2692057104f8b2f20a30ea06216107e1e92ed716a32ad5d4b3bd0b4df2eea88ca023e466720b51beb6f0ac4c5997a61b290faa41056283ef1913da161acc3fefdeb54562fcad559e992ebcea5312969ee4a4b6ec2ba87902cabb7a46fbdc3c0110bb58671c63efdd24e4ab6b5ba6d5fd310daa4aacaffbe0f54b97700d22bd66bea95b9fb681b79a69b821ff8c1dc5e3f462a8e667fd92da17e86a31697f9437f9c756ae5f7ee1811c4fd8b57176b5f6042b000c632c5d38c6966b9c42a4fe65a705f26bb460e95797360032bb765e73b50a4421017b1e10d57001d18d3ea37dea254e67be2c86bf1e4823298edcb754ab63d23ea3f0e68435b383f7a3b7077baf5cd640a92c173dca7171380cc6ddfa063a5c94b39d252f095923f8ccf887dd753d63fc4df442d55ef41400e2b72478fd2214d6a70ca3a122f71a56ed6130e10bf9235b397a04c13a5137c599630f57d53f42eeae0eea9244ee55e2558cc80526c17f2d242b32ff0c4ffa28f919aaa1c6434101a2a108204d3a6ae76a18340e91860704df5f8dbb69ddf2b64a1ea59e97e394a26af2783eb67edc515cd66e06728e7e34b99b45f54b613d8095972cfba9ac8b5bc733639931a2e1d61f7750d6939a2c8b8d74106caedb4e1d4e49bc39067ca2fd718b4efada8bc6de69355362e7500684ac2eb644c3df4f9d896d7b659cfe7413b495217ac4aebb3f7d5458f381467883c6ab03030351c3a2f50bdfc803b9ae6d1d1daa0b49aed67c2afd7525e7675',\n",
              " 2000)"
            ]
          },
          "execution_count": 56,
          "metadata": {},
          "output_type": "execute_result"
        }
      ],
      "source": [
        "#random_text\n",
        "random_text = base64_to_hex(base64_encode(get_random_bytes(1024)))[:2025]\n",
        "# new = base64_encode(get_random_bytes(10))\n",
        "new, len(new)"
      ]
    },
    {
      "cell_type": "code",
      "execution_count": null,
      "id": "0dd13e0f",
      "metadata": {
        "id": "0dd13e0f",
        "outputId": "cd89bf4b-f5ce-461c-b30b-f4dacbaf778b"
      },
      "outputs": [
        {
          "data": {
            "text/plain": [
              "1053"
            ]
          },
          "execution_count": 39,
          "metadata": {},
          "output_type": "execute_result"
        }
      ],
      "source": [
        "len(df2['Round2'][0])"
      ]
    },
    {
      "cell_type": "code",
      "execution_count": null,
      "id": "29fe0c9b",
      "metadata": {
        "id": "29fe0c9b",
        "outputId": "6062280c-bcc8-4723-e703-f43d77ba516e"
      },
      "outputs": [
        {
          "data": {
            "text/plain": [
              "('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',\n",
              " 2000)"
            ]
          },
          "execution_count": 55,
          "metadata": {},
          "output_type": "execute_result"
        }
      ],
      "source": [
        "plaintext = df.iloc[0]['text']\n",
        "plaintext = plaintext[:1250].encode('ascii')\n",
        "res = ciphertext_gen(plaintext,1)[:2025]\n",
        "res, len(res)"
      ]
    },
    {
      "cell_type": "code",
      "execution_count": null,
      "id": "2cdf52d8",
      "metadata": {
        "id": "2cdf52d8"
      },
      "outputs": [],
      "source": []
    },
    {
      "cell_type": "code",
      "execution_count": null,
      "id": "56686314",
      "metadata": {
        "id": "56686314"
      },
      "outputs": [],
      "source": []
    },
    {
      "cell_type": "code",
      "execution_count": null,
      "id": "59136d0f",
      "metadata": {
        "id": "59136d0f"
      },
      "outputs": [],
      "source": []
    },
    {
      "cell_type": "code",
      "execution_count": null,
      "id": "562f0202",
      "metadata": {
        "id": "562f0202"
      },
      "outputs": [],
      "source": []
    },
    {
      "cell_type": "code",
      "execution_count": null,
      "id": "bc10700e",
      "metadata": {
        "id": "bc10700e",
        "outputId": "2a2334a0-2277-445d-f1f2-2a44ad7ecd6b"
      },
      "outputs": [
        {
          "name": "stdout",
          "output_type": "stream",
          "text": [
            "AES_CBC_round9_ciphertext : \n",
            "\n",
            "IV :\n",
            " edba5d5e117998e6 \n",
            "\n",
            "CIPHER TEXT : \n",
            " 178f491a0f82bf91408a805bcc6d93b68693e280eff777fe755632bcc417f4a721c5aee8badab291e524ed4579b8a1f9cb4043d83c96f1d0c94a4cd641038e14\n",
            "\n",
            "len =  128\n"
          ]
        }
      ],
      "source": [
        "#round-9 ciphertext generation\n",
        "from aes9 import AES as AES_mod\n",
        "enc_res = encrypt_AES(plaintext,IV,key)\n",
        "ciphertext = \"\".join(hex(i)[2:] for i in enc_res[1])\n",
        "\n",
        "#print(enc_res)\n",
        "print(\"AES_CBC_round9_ciphertext : \\n\\nIV :\\n\",enc_res[0],\"\\n\\nCIPHER TEXT : \\n\",ciphertext)\n",
        "print(\"\\nlen = \",len(ciphertext))\n",
        "# dec_res = decrypt_AES(enc_res[0],enc_res[1],key)\n",
        "# print(dec_res)"
      ]
    },
    {
      "cell_type": "markdown",
      "id": "b0f35c89",
      "metadata": {
        "id": "b0f35c89"
      },
      "source": [
        "# Round - 10"
      ]
    },
    {
      "cell_type": "code",
      "execution_count": null,
      "id": "fa1e49f0",
      "metadata": {
        "id": "fa1e49f0",
        "outputId": "9ff196a5-0cc7-44fa-96c1-6356ae9cbd8e"
      },
      "outputs": [
        {
          "name": "stdout",
          "output_type": "stream",
          "text": [
            "AES_CBC_round10_ciphertext : \n",
            "\n",
            "IV :\n",
            " edba5d5e117998e6 \n",
            "\n",
            "CIPHER TEXT : \n",
            " b4eb8266898525efda672cd6ea7431f0a85b736c4747d32051871b7922514c74198ad8469bda651ea349c045aaf3729fa903c05e6de1c6d0ab6c1a54dadf545a\n",
            "\n",
            "len =  128\n",
            "\n",
            "DECRYPTED TEXT:\n",
            "b'hello,this is ABCDhello,this is ABCDhello,this is ABCD'\n"
          ]
        }
      ],
      "source": [
        "from aes10 import AES as AES_mod\n",
        "enc_res = encrypt_AES(plaintext,IV,key)\n",
        "ciphertext = \"\".join(hex(i)[2:] for i in enc_res[1])\n",
        "print(\"AES_CBC_round10_ciphertext : \\n\\nIV :\\n\",enc_res[0],\"\\n\\nCIPHER TEXT : \\n\",ciphertext)\n",
        "print(\"\\nlen = \",len(ciphertext))\n",
        "\n",
        "dec_res = decrypt_AES(enc_res[0],enc_res[1],key)\n",
        "print(\"\\nDECRYPTED TEXT:\")\n",
        "print(dec_res)"
      ]
    },
    {
      "cell_type": "code",
      "execution_count": null,
      "id": "6d0c4b55",
      "metadata": {
        "id": "6d0c4b55"
      },
      "outputs": [],
      "source": []
    },
    {
      "cell_type": "code",
      "execution_count": null,
      "id": "45621df1",
      "metadata": {
        "id": "45621df1"
      },
      "outputs": [],
      "source": []
    },
    {
      "cell_type": "code",
      "execution_count": null,
      "id": "9c3071fe",
      "metadata": {
        "id": "9c3071fe"
      },
      "outputs": [],
      "source": []
    },
    {
      "cell_type": "code",
      "execution_count": null,
      "id": "0bca4908",
      "metadata": {
        "id": "0bca4908"
      },
      "outputs": [],
      "source": []
    },
    {
      "cell_type": "code",
      "execution_count": null,
      "id": "79b7adef",
      "metadata": {
        "id": "79b7adef"
      },
      "outputs": [],
      "source": []
    },
    {
      "cell_type": "code",
      "execution_count": null,
      "id": "e9ed3185",
      "metadata": {
        "id": "e9ed3185"
      },
      "outputs": [],
      "source": []
    },
    {
      "cell_type": "code",
      "execution_count": null,
      "id": "08edc1b1",
      "metadata": {
        "id": "08edc1b1"
      },
      "outputs": [],
      "source": []
    }
  ],
  "metadata": {
    "kernelspec": {
      "display_name": "Python 3 (ipykernel)",
      "language": "python",
      "name": "python3"
    },
    "language_info": {
      "codemirror_mode": {
        "name": "ipython",
        "version": 3
      },
      "file_extension": ".py",
      "mimetype": "text/x-python",
      "name": "python",
      "nbconvert_exporter": "python",
      "pygments_lexer": "ipython3",
      "version": "3.9.12"
    },
    "colab": {
      "provenance": [],
      "include_colab_link": true
    }
  },
  "nbformat": 4,
  "nbformat_minor": 5
}